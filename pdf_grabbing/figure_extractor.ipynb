{
 "cells": [
  {
   "cell_type": "code",
   "execution_count": 1,
   "id": "cc0f65da-9b46-4eb7-b9ea-e93d17a52b24",
   "metadata": {},
   "outputs": [],
   "source": [
    "import pymupdf"
   ]
  },
  {
   "cell_type": "code",
   "execution_count": 54,
   "id": "5d148eb2-3e5f-45b4-8ff1-6f05ff28c355",
   "metadata": {},
   "outputs": [],
   "source": [
    "doc = pymupdf.open(\"test.pdf\")"
   ]
  },
  {
   "cell_type": "code",
   "execution_count": 20,
   "id": "6f535c7e-9c43-4a93-b571-11f457d472c1",
   "metadata": {},
   "outputs": [],
   "source": [
    "from io import BytesIO"
   ]
  },
  {
   "cell_type": "code",
   "execution_count": 23,
   "id": "07a1fba3-ae13-4324-b818-c7b3ff8a7895",
   "metadata": {},
   "outputs": [],
   "source": [
    "from PIL import Image\n"
   ]
  },
  {
   "cell_type": "code",
   "execution_count": 60,
   "id": "ec1bb1da-95eb-42cc-8e32-bda7b82e8ea6",
   "metadata": {},
   "outputs": [],
   "source": [
    "def get_figure_and_text(fig1,page):\n",
    "    above_bbox = (fig1[0],0,fig1[2],fig1[1])\n",
    "    pix = page.get_pixmap()\n",
    "    page_im=Image.open(BytesIO(pix.tobytes()))\n",
    "    figure_text_image = page_im.crop(fig1[:4])\n",
    "    figure_image = page_im.crop(above_bbox)\n",
    "    return dict(figure_text_image=figure_text_image,figure_image = figure_image)\n",
    "\n",
    "def get_figure_sections_on_page(page):\n",
    "    figure_blocks = [b for b in page.get_text(\"blocks\")  if \"FIG\" in b[4]]\n",
    "    return figure_blocks"
   ]
  },
  {
   "cell_type": "code",
   "execution_count": 67,
   "id": "23204124-ecae-44d5-a26f-1610dc49e1bc",
   "metadata": {},
   "outputs": [],
   "source": [
    "def run_figure_extraction(doc):\n",
    "    results = []\n",
    "    for page in doc:\n",
    "        \n",
    "        figure_blocks = get_figure_sections_on_page(page)\n",
    "        for fb in figure_blocks:\n",
    "            fig_and_text = get_figure_and_text(fb,page)\n",
    "            results.append(dict(figure_blocks = figure_blocks, fig_and_text = fig_and_text))\n",
    "    return results"
   ]
  },
  {
   "cell_type": "code",
   "execution_count": 65,
   "id": "7de5003b-926c-4ddc-afc6-967bf8257680",
   "metadata": {},
   "outputs": [
    {
     "data": {
      "text/plain": [
       "3"
      ]
     },
     "execution_count": 65,
     "metadata": {},
     "output_type": "execute_result"
    }
   ],
   "source": [
    "len(results)"
   ]
  },
  {
   "cell_type": "code",
   "execution_count": 66,
   "id": "51f02ea9-612b-4d3d-9602-2d4d0eede814",
   "metadata": {},
   "outputs": [
    {
     "data": {
      "text/plain": [
       "[{'figure_blocks': [(317.0400085449219,\n",
       "    189.1062774658203,\n",
       "    562.2515258789062,\n",
       "    365.4815673828125,\n",
       "    'FIG. 1. (a) Top: the top view of a conventional straight tube\\ncoupled-cavity model and a coiled tube coupled-cavity model.\\nBottom: a 3D view of a coiled tube coupled-cavity model. (b)\\nFrequency spectrum of the coupled cavity system with coiled\\ncoupling tubes shown in (a), bottom, as a function of the ra-\\ntio between a0/h0. The blue markers represent the frequen-\\ncies of the symmetric modes (lower frequency) and the anti-\\nsymmetric modes (higher frequency).The average frequencies\\nof the symmetric and anti-symmetric modes are marked with\\nred circles. The symmetric and anti-symmetric modes are dis-\\ntributed symmetrically about the zero-energy level(4289Hz)\\nat a0/h0=0.75, indicating chiral symmetry. (c) The top-view\\nof the OAL(3c) honeycomb lattice with coiled coupling tubes,\\nwhere the external coupling tubes are situated at the bottom\\nof the cavity and the internal coupling tubes are located at\\nh0/4 above the center of the cavity. The ﬁgure on the top\\nright shows a single unit cell with coiled coupling tubes.\\n',\n",
       "    20,\n",
       "    0)],\n",
       "  'fig_and_text': {'figure_text_image': <PIL.Image.Image image mode=RGB size=245x176>,\n",
       "   'figure_image': <PIL.Image.Image image mode=RGB size=245x189>}},\n",
       " {'figure_blocks': [(53.99931335449219,\n",
       "    308.23583984375,\n",
       "    299.21185302734375,\n",
       "    476.1213073730469,\n",
       "    'FIG. 2. (a) The OAL(3c) lattice with a 2π/3 disclination.\\nEach shade represents one unit cell. Two diﬀerent sublattices\\nare distinguished by red and blue circles.\\nThe inset ﬁgure\\nshows a unit cell with its Wannier centers at half-ﬁlling at\\nWyckoﬀposition 3c. (b) Numerically computed eigenfrequen-\\ncies for the OAL(3c) structure. The topological corner states,\\nedge states, and trivial corner states are represented by red,\\ngreen, and brown circles, respectively. (c) The four degener-\\nate topological corner states at 4304 Hz. (d) The OAL(1a)\\nlattice with a 2π/3 disclination. The inset ﬁgure shows a unit\\ncell with its Wannier centers at half-ﬁlling at Wyckoﬀposi-\\ntion 1a (three-fold degenerate).\\n(e) Numerically computed\\neigenfrequencies for the OAL(1a) structure. (f) The pair of\\ndegenerate disclination bound states at 4285 Hz. The dotted\\nlines highlight the quadrants. Only the region surrounding\\nthe lattice core is shown for better visualization.\\n',\n",
       "    27,\n",
       "    0)],\n",
       "  'fig_and_text': {'figure_text_image': <PIL.Image.Image image mode=RGB size=245x168>,\n",
       "   'figure_image': <PIL.Image.Image image mode=RGB size=245x308>}},\n",
       " {'figure_blocks': [(317.0400085449219,\n",
       "    316.06622314453125,\n",
       "    562.1890869140625,\n",
       "    523.7592163085938,\n",
       "    'FIG. 3. (a) (top panel) The acoustic OAL(1a) lattice. Only\\nthe inner 3 by 3 unit cells are shown here for better visu-\\nalization. (bottom panel) A close-up view of three cavities\\nin the dashed line box shows the position of the external\\nand internal coupling tubes. The transparent cut-plane in-\\ndicates the interface between the two layers used to construct\\nthe experimental acoustic sample.\\n(b) Photographs of the\\nOAL(3c) acoustic lattice sample with its cavities (the larger\\nholes) and coupling channels. The two blocks are stacked and\\nthen sealed to form the coupled-cavity lattice. The smaller\\nholes without tubes are for mounting purposes. (c) Spectra\\nof the normalized pressure amplitude |p| of the disclination\\n(purple) and bulk (grey) states. The degenerate disclination\\nstates are marked with the red star (two degenerate states\\nat 4340 Hz). (d) The pressure distribution maps of the two\\ndisclination states at the frequency marked by the red star\\nin (c). The area of the circle represents the amplitude of the\\npressure. Note that the entire lattice is measured, but the\\npressure amplitudes are too weak away from the disclination\\ncore.\\n',\n",
       "    17,\n",
       "    0)],\n",
       "  'fig_and_text': {'figure_text_image': <PIL.Image.Image image mode=RGB size=245x208>,\n",
       "   'figure_image': <PIL.Image.Image image mode=RGB size=245x316>}}]"
      ]
     },
     "execution_count": 66,
     "metadata": {},
     "output_type": "execute_result"
    }
   ],
   "source": [
    "results"
   ]
  },
  {
   "cell_type": "code",
   "execution_count": 68,
   "id": "055b7be5-29b3-4691-ad91-def0332600cd",
   "metadata": {},
   "outputs": [],
   "source": [
    "long_doc = pymupdf.open(\"3213425384.pdf\")"
   ]
  },
  {
   "cell_type": "code",
   "execution_count": 69,
   "id": "40730b54-3d97-4d7b-a73d-bea2ecab001f",
   "metadata": {},
   "outputs": [
    {
     "data": {
      "text/plain": [
       "[]"
      ]
     },
     "execution_count": 69,
     "metadata": {},
     "output_type": "execute_result"
    }
   ],
   "source": [
    "run_figure_extraction(long_doc)"
   ]
  },
  {
   "cell_type": "code",
   "execution_count": 75,
   "id": "218f9c31-9b55-41d8-8d78-65274a85d5ef",
   "metadata": {},
   "outputs": [],
   "source": [
    "page = long_doc[29]"
   ]
  },
  {
   "cell_type": "code",
   "execution_count": 78,
   "id": "65ba28e3-cd99-4ad0-bca8-38f54447b54e",
   "metadata": {},
   "outputs": [
    {
     "data": {
      "text/plain": [
       "[(222.1230010986328,\n",
       "  59.953643798828125,\n",
       "  373.1770324707031,\n",
       "  71.9207992553711,\n",
       "  'Figure 2: Data for Product I.\\n',\n",
       "  0,\n",
       "  0),\n",
       " (216.04299926757812,\n",
       "  438.1706237792969,\n",
       "  379.24346923828125,\n",
       "  450.1377868652344,\n",
       "  'Figure 3: Results for Product I.\\n',\n",
       "  2,\n",
       "  0)]"
      ]
     },
     "execution_count": 78,
     "metadata": {},
     "output_type": "execute_result"
    }
   ],
   "source": [
    "[b for b in page.get_text(\"blocks\") if \"Figure\" in b[4] ]"
   ]
  },
  {
   "cell_type": "code",
   "execution_count": 77,
   "id": "d725ea7f-80cc-42fb-8fd0-8dcc8178121b",
   "metadata": {},
   "outputs": [
    {
     "data": {
      "text/plain": [
       "[(222.1230010986328,\n",
       "  59.953643798828125,\n",
       "  373.1770324707031,\n",
       "  71.9207992553711,\n",
       "  'Figure 2: Data for Product I.\\n',\n",
       "  0,\n",
       "  0),\n",
       " (51.02400207519531,\n",
       "  83.2164535522461,\n",
       "  544.0941772460938,\n",
       "  129.04458618164062,\n",
       "  'Panel (a) reports the daily sales divided by the number of stores aggregated for all cities as well as for the treatment and control\\ngroups. The plot also indicates the date of the intervention. Panels (b) and (c) display the distribution of the average sales per store\\nover time across municipalities in the treatment and control groups, respectively. Panels (d) and (e) present fan plots of sales across\\nmunicipalities in the treatment and control groups for each given time point. The black curves represent the cross-sectional mean over\\ntime and the vertical green line indicates the date of intervention.\\n',\n",
       "  1,\n",
       "  0),\n",
       " (216.04299926757812,\n",
       "  438.1706237792969,\n",
       "  379.24346923828125,\n",
       "  450.1377868652344,\n",
       "  'Figure 3: Results for Product I.\\n',\n",
       "  2,\n",
       "  0),\n",
       " (51.02400207519531,\n",
       "  461.4334411621094,\n",
       "  544.245361328125,\n",
       "  497.7975158691406,\n",
       "  'Panel (a) displays a fan plot, across n1 municipalities in the treatment group, of the p-values of the re-sampling test for the null\\nH0 : δt “ 0 at each time t after the treatment. The black curve represents the median p-value across municipalities over t. Panel (b)\\nshows an example for one municipality. The panel depicts the actual and counterfactual sales per store for the post-treatment period.\\n95% conﬁdence intervals for the counterfactual path is also displayed.\\n',\n",
       "  3,\n",
       "  0),\n",
       " (291.7850036621094,\n",
       "  811.78759765625,\n",
       "  303.4891662597656,\n",
       "  823.7547607421875,\n",
       "  '30\\n',\n",
       "  4,\n",
       "  0)]"
      ]
     },
     "execution_count": 77,
     "metadata": {},
     "output_type": "execute_result"
    }
   ],
   "source": [
    "page.get_text(\"blocks\")"
   ]
  },
  {
   "cell_type": "code",
   "execution_count": null,
   "id": "067c573e-7d9b-474d-acf6-f0ed1e1be562",
   "metadata": {},
   "outputs": [],
   "source": [
    "def is_figure_block(b):\n",
    "    b_text = b[4]\n",
    "    return \"FIG.\" in b_text or \"Figure\" in b_text\n",
    "\n",
    "is_first =True\n",
    "# process each block \n",
    "for i,block in enumerate(page.get_text(\"blocks\")):\n",
    "    # see if block is a figure block\n",
    "    if \n",
    "    # sam"
   ]
  },
  {
   "cell_type": "code",
   "execution_count": 79,
   "id": "b6cf5fb9-ac65-46eb-87a3-7f0c9ed38bb5",
   "metadata": {},
   "outputs": [],
   "source": [
    "# biggest issue in this article is determining whether the figure is above or below the text we identify is a figure section\n",
    "# assumption #1, a text and it's image are always on the same page\n",
    "# assumption an image will represent a break in the amount of space on a page registered by blocks \n",
    "# the same rule will apply for all figures on a page, perhaps even throughout a document\n",
    "blocks = page.get_text(\"blocks\")\n",
    "b"
   ]
  },
  {
   "cell_type": "code",
   "execution_count": null,
   "id": "572cc1c4-d06a-420b-a383-1606b2133b64",
   "metadata": {},
   "outputs": [],
   "source": []
  }
 ],
 "metadata": {
  "kernelspec": {
   "display_name": "Python 3 (ipykernel)",
   "language": "python",
   "name": "python3"
  },
  "language_info": {
   "codemirror_mode": {
    "name": "ipython",
    "version": 3
   },
   "file_extension": ".py",
   "mimetype": "text/x-python",
   "name": "python",
   "nbconvert_exporter": "python",
   "pygments_lexer": "ipython3",
   "version": "3.12.2"
  }
 },
 "nbformat": 4,
 "nbformat_minor": 5
}
